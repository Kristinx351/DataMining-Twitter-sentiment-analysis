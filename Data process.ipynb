{
 "cells": [
  {
   "cell_type": "markdown",
   "metadata": {},
   "source": [
    "# Part 1: 数据预处理"
   ]
  },
  {
   "cell_type": "code",
   "execution_count": 1,
   "metadata": {
    "ExecuteTime": {
     "end_time": "2022-12-10T12:12:29.812076Z",
     "start_time": "2022-12-10T12:12:25.959103Z"
    },
    "colab": {
     "base_uri": "https://localhost:8080/"
    },
    "executionInfo": {
     "elapsed": 2464,
     "status": "ok",
     "timestamp": 1669825251719,
     "user": {
      "displayName": "金何晞",
      "userId": "16897903088205582148"
     },
     "user_tz": -480
    },
    "id": "wot837Zkn0W4",
    "outputId": "0507fe73-1816-485e-b90c-e52136e37ce5"
   },
   "outputs": [
    {
     "name": "stderr",
     "output_type": "stream",
     "text": [
      "[nltk_data] Downloading package punkt to\n",
      "[nltk_data]     C:\\Users\\admin\\AppData\\Roaming\\nltk_data...\n",
      "[nltk_data]   Package punkt is already up-to-date!\n",
      "[nltk_data] Downloading package stopwords to\n",
      "[nltk_data]     C:\\Users\\admin\\AppData\\Roaming\\nltk_data...\n",
      "[nltk_data]   Package stopwords is already up-to-date!\n"
     ]
    }
   ],
   "source": [
    "import numpy as np\n",
    "import nltk\n",
    "nltk.download('punkt')\n",
    "from nltk import word_tokenize\n",
    "nltk.download('stopwords')\n",
    "from nltk.corpus import stopwords\n",
    "from sklearn.model_selection import train_test_split\n",
    "import re\n",
    "import string\n",
    "import pandas as pd"
   ]
  },
  {
   "cell_type": "code",
   "execution_count": 71,
   "metadata": {
    "ExecuteTime": {
     "end_time": "2022-12-08T10:44:48.071140Z",
     "start_time": "2022-12-08T10:44:43.395387Z"
    },
    "colab": {
     "base_uri": "https://localhost:8080/",
     "height": 401
    },
    "executionInfo": {
     "elapsed": 11,
     "status": "error",
     "timestamp": 1669825254466,
     "user": {
      "displayName": "金何晞",
      "userId": "16897903088205582148"
     },
     "user_tz": -480
    },
    "id": "AYCcRAMTn0W8",
    "outputId": "d4eed69e-338b-4e5e-bcf8-2a1ed2c81f83",
    "pycharm": {
     "name": "#%%\n"
    },
    "scrolled": true
   },
   "outputs": [
    {
     "name": "stdout",
     "output_type": "stream",
     "text": [
      "E:\\Study_0\\Term5\\Data Mining\\Code\n"
     ]
    }
   ],
   "source": [
    "import os\n",
    "print(os.path.abspath('.'))\n",
    "data1 = pd.read_csv(r\"src/training.csv\", encoding=\"ISO-8859-1\")\n",
    "data = data1"
   ]
  },
  {
   "cell_type": "code",
   "execution_count": 72,
   "metadata": {
    "ExecuteTime": {
     "end_time": "2022-12-08T10:44:49.005714Z",
     "start_time": "2022-12-08T10:44:48.985472Z"
    },
    "collapsed": true,
    "executionInfo": {
     "elapsed": 4,
     "status": "ok",
     "timestamp": 1669814001725,
     "user": {
      "displayName": "金何晞",
      "userId": "16897903088205582148"
     },
     "user_tz": -480
    },
    "id": "H10EtvELn0W9",
    "pycharm": {
     "name": "#%%\n"
    }
   },
   "outputs": [],
   "source": [
    "data.columns = [\"label\",\"id\",\"date\",\"topic\",\"name\",\"comment\"]\n",
    "\"\"\"\n",
    "label:\n",
    "4: pos\n",
    "0: neg\n",
    "\"\"\"\n",
    "# To simplify, we only adopt contents which contain the most useful information for sensitivity analysis here\n",
    "del data[\"id\"]\n",
    "# del data[\"date\"]\n",
    "# del data[\"topic\"]\n",
    "del data[\"name\"]"
   ]
  },
  {
   "cell_type": "code",
   "execution_count": 73,
   "metadata": {
    "ExecuteTime": {
     "end_time": "2022-12-08T10:44:51.401405Z",
     "start_time": "2022-12-08T10:44:49.693440Z"
    },
    "collapsed": true,
    "executionInfo": {
     "elapsed": 947,
     "status": "ok",
     "timestamp": 1669814002669,
     "user": {
      "displayName": "金何晞",
      "userId": "16897903088205582148"
     },
     "user_tz": -480
    },
    "id": "-VQNrYuVn0W9",
    "pycharm": {
     "name": "#%%\n"
    }
   },
   "outputs": [
    {
     "data": {
      "text/plain": "   label                          date     topic  \\\n0      0  Mon Apr 06 22:19:49 PDT 2009  NO_QUERY   \n1      0  Mon Apr 06 22:19:53 PDT 2009  NO_QUERY   \n2      0  Mon Apr 06 22:19:57 PDT 2009  NO_QUERY   \n3      0  Mon Apr 06 22:19:57 PDT 2009  NO_QUERY   \n4      0  Mon Apr 06 22:20:00 PDT 2009  NO_QUERY   \n\n                                             comment  pos  neg  \n0  is upset that he can't update his Facebook by ...    0    1  \n1  @Kenichan I dived many times for the ball. Man...    0    1  \n2    my whole body feels itchy and like its on fire     0    1  \n3  @nationwideclass no, it's not behaving at all....    0    1  \n4                      @Kwesidei not the whole crew     0    1  ",
      "text/html": "<div>\n<style scoped>\n    .dataframe tbody tr th:only-of-type {\n        vertical-align: middle;\n    }\n\n    .dataframe tbody tr th {\n        vertical-align: top;\n    }\n\n    .dataframe thead th {\n        text-align: right;\n    }\n</style>\n<table border=\"1\" class=\"dataframe\">\n  <thead>\n    <tr style=\"text-align: right;\">\n      <th></th>\n      <th>label</th>\n      <th>date</th>\n      <th>topic</th>\n      <th>comment</th>\n      <th>pos</th>\n      <th>neg</th>\n    </tr>\n  </thead>\n  <tbody>\n    <tr>\n      <th>0</th>\n      <td>0</td>\n      <td>Mon Apr 06 22:19:49 PDT 2009</td>\n      <td>NO_QUERY</td>\n      <td>is upset that he can't update his Facebook by ...</td>\n      <td>0</td>\n      <td>1</td>\n    </tr>\n    <tr>\n      <th>1</th>\n      <td>0</td>\n      <td>Mon Apr 06 22:19:53 PDT 2009</td>\n      <td>NO_QUERY</td>\n      <td>@Kenichan I dived many times for the ball. Man...</td>\n      <td>0</td>\n      <td>1</td>\n    </tr>\n    <tr>\n      <th>2</th>\n      <td>0</td>\n      <td>Mon Apr 06 22:19:57 PDT 2009</td>\n      <td>NO_QUERY</td>\n      <td>my whole body feels itchy and like its on fire</td>\n      <td>0</td>\n      <td>1</td>\n    </tr>\n    <tr>\n      <th>3</th>\n      <td>0</td>\n      <td>Mon Apr 06 22:19:57 PDT 2009</td>\n      <td>NO_QUERY</td>\n      <td>@nationwideclass no, it's not behaving at all....</td>\n      <td>0</td>\n      <td>1</td>\n    </tr>\n    <tr>\n      <th>4</th>\n      <td>0</td>\n      <td>Mon Apr 06 22:20:00 PDT 2009</td>\n      <td>NO_QUERY</td>\n      <td>@Kwesidei not the whole crew</td>\n      <td>0</td>\n      <td>1</td>\n    </tr>\n  </tbody>\n</table>\n</div>"
     },
     "execution_count": 73,
     "metadata": {},
     "output_type": "execute_result"
    }
   ],
   "source": [
    "# those data[label] = 4\n",
    "pos = []\n",
    "# those data[label] = 0\n",
    "neg = []\n",
    "\n",
    "for label in data[\"label\"]:\n",
    "    if label == 4:\n",
    "        pos.append(1)\n",
    "        neg.append(0)\n",
    "    else:\n",
    "        pos.append(0)\n",
    "        neg.append(1)\n",
    "\n",
    "# build a 01 vector for doc\n",
    "data['pos'] = pos\n",
    "data['neg'] = neg\n",
    "data.head()"
   ]
  },
  {
   "cell_type": "markdown",
   "metadata": {},
   "source": [
    "### 数据预处理优化Case Study: 去除颜表情"
   ]
  },
  {
   "cell_type": "markdown",
   "source": [
    "在去除颜表情之前，我们需要先去除网址与数字，为了避免把网址中\"http:/\", \"https:/\"中的\":/\"误判为我们的表情"
   ],
   "metadata": {
    "collapsed": false,
    "pycharm": {
     "name": "#%% md\n"
    }
   }
  },
  {
   "cell_type": "code",
   "execution_count": 74,
   "outputs": [],
   "source": [
    "\n",
    "def rm_punct_num_url(token):\n",
    "    token_nonum = re.sub(r'[0-9]', '', token)\n",
    "    token_no_url = re.sub(r'https[:.]+\\S+', '', token_nonum)\n",
    "    token_no_url = re.sub(r'http[:.]+\\S+', '', token_nonum)\n",
    "    return token_no_url\n",
    "\n",
    "data['comment'] = data['comment'].apply(lambda x: rm_punct_num_url(str(x)))\n"
   ],
   "metadata": {
    "collapsed": false,
    "pycharm": {
     "name": "#%%\n"
    }
   }
  },
  {
   "cell_type": "code",
   "execution_count": 75,
   "metadata": {
    "ExecuteTime": {
     "end_time": "2022-12-08T10:45:06.774599Z",
     "start_time": "2022-12-08T10:44:51.804587Z"
    },
    "collapsed": true,
    "executionInfo": {
     "elapsed": 11884,
     "status": "ok",
     "timestamp": 1669814014552,
     "user": {
      "displayName": "金何晞",
      "userId": "16897903088205582148"
     },
     "user_tz": -480
    },
    "id": "PmF5bt7ldgAa"
   },
   "outputs": [],
   "source": [
    "emojis = {':)': 'smile','(:': 'smile',':]':'smile','=]': 'smile',';)': 'smile',':D':'laugh', ':-D':'laugh',';D':'laugh', '=D':'laugh',':-)': 'smile', '=)': 'smile',';d': 'wink', ':-E': 'vampire', ':(': 'sad','):': 'sad',':|': 'sad',\n",
    "          ':-(': 'sad', ':-<': 'sad', ':P': 'raspberry', ':O': 'surprised',\n",
    "          ':-@': 'shocked', ':@': 'shocked',':-$': 'confused', ':/': 'annoyed', ':\\\\': 'annoyed', \n",
    "          ':#': 'mute', ':X': 'mute', ':^)': 'smile', ':-&': 'confused', '$_$': 'greedy',\n",
    "          '@@': 'eyeroll', ':-!': 'confused', ':-D': 'smile', ':-0': 'yell', 'O.o': 'confused',\n",
    "          '<(-_-)>': 'robot',  \":'-)\": 'sadsmile', ';)': 'wink', \n",
    "          ';-)': 'wink', 'O:-)': 'angel','O*-)': 'angel','(:-D': 'gossip', \"= =\\\"\":'confused'}\n",
    "def rep_emoji(text):\n",
    "    em = 0\n",
    "    for emoji in emojis.keys():\n",
    "        text = text.replace(emoji,emojis[emoji])\n",
    "        em = em + 1\n",
    "    return text\n",
    "\n",
    "data['comment'] = data['comment'].apply(lambda x: rep_emoji(x))"
   ]
  },
  {
   "cell_type": "markdown",
   "metadata": {},
   "source": [
    "## 去除标点"
   ]
  },
  {
   "cell_type": "code",
   "execution_count": 76,
   "metadata": {
    "ExecuteTime": {
     "end_time": "2022-12-08T10:45:06.790579Z",
     "start_time": "2022-12-08T10:45:06.779518Z"
    },
    "colab": {
     "base_uri": "https://localhost:8080/"
    },
    "executionInfo": {
     "elapsed": 18,
     "status": "ok",
     "timestamp": 1669814014552,
     "user": {
      "displayName": "金何晞",
      "userId": "16897903088205582148"
     },
     "user_tz": -480
    },
    "id": "3g0cb5Rgn0W-",
    "outputId": "0bd04442-3563-460b-d99a-7c18245339c9",
    "pycharm": {
     "name": "#%%\n"
    }
   },
   "outputs": [
    {
     "name": "stdout",
     "output_type": "stream",
     "text": [
      "!\"#$%&'()*+,-./:;<=>?@[\\]^_`{|}~\n"
     ]
    }
   ],
   "source": [
    "punc = string.punctuation\n",
    "print(punc)"
   ]
  },
  {
   "cell_type": "code",
   "execution_count": 77,
   "metadata": {
    "ExecuteTime": {
     "end_time": "2022-12-08T10:45:35.402339Z",
     "start_time": "2022-12-08T10:45:20.262662Z"
    },
    "collapsed": true,
    "executionInfo": {
     "elapsed": 12318,
     "status": "ok",
     "timestamp": 1669814026866,
     "user": {
      "displayName": "金何晞",
      "userId": "16897903088205582148"
     },
     "user_tz": -480
    },
    "id": "Hx6Q5OKVn0W-",
    "pycharm": {
     "name": "#%%\n"
    }
   },
   "outputs": [],
   "source": [
    "# remove punctuation, numbers and url in the comments\n",
    "def rm_punct_num_url(token):\n",
    "    token_nopunct = re.sub('['+punc+']', '', token)\n",
    "    return token_nopunct\n",
    "\n",
    "data['comment'] = data['comment'].apply(lambda x: rm_punct_num_url(x))"
   ]
  },
  {
   "cell_type": "markdown",
   "source": [
    "### 数据预处理优化Case Study: 去除粘连（连拼）词"
   ],
   "metadata": {
    "collapsed": false,
    "pycharm": {
     "name": "#%% md\n"
    }
   }
  },
  {
   "cell_type": "code",
   "execution_count": 79,
   "outputs": [
    {
     "name": "stdout",
     "output_type": "stream",
     "text": [
      "0    is upset that he cant update his Facebook by t...\n",
      "1    Kenichan I dived many times for the ball Manag...\n",
      "2      my whole body feels itchy and like its on fire \n",
      "3    nationwideclass no its not behaving at all im ...\n",
      "4                         Kwesidei not the whole crew \n",
      "Name: comment, dtype: object\n"
     ]
    },
    {
     "data": {
      "text/plain": "0    [is, upset, that, he, cant, update, his, Faceb...\n1    [Ken, i, chan, I, dived, many, times, for, the...\n2    [my, whole, body, feels, itchy, and, like, its...\n3    [nationwide, class, no, its, not, behaving, at...\n4              [K, we, side, i, not, the, whole, crew]\nName: comment, dtype: object"
     },
     "execution_count": 79,
     "metadata": {},
     "output_type": "execute_result"
    }
   ],
   "source": [
    "\n",
    "print(data[\"comment\"][:5])\n",
    "# for x in data['comment']:\n",
    "#     new_comment = wordninja.split(x)\n",
    "data['comment'] = data['comment'].apply(lambda x:wordninja.split(x))\n",
    "data[\"comment\"][:5]"
   ],
   "metadata": {
    "collapsed": false,
    "pycharm": {
     "name": "#%%\n"
    }
   }
  },
  {
   "cell_type": "code",
   "source": [
    "import wordninja\n",
    "print(wordninja.split('imwritingabook in this moment and itis nationwideclass'))\n"
   ],
   "metadata": {
    "collapsed": false,
    "pycharm": {
     "name": "#%%\n"
    }
   },
   "execution_count": 78,
   "outputs": [
    {
     "name": "stdout",
     "output_type": "stream",
     "text": [
      "['im', 'writing', 'a', 'book', 'in', 'this', 'moment', 'and', 'it', 'is', 'nationwide', 'class']\n"
     ]
    }
   ]
  },
  {
   "cell_type": "markdown",
   "source": [
    "### 去除单个字母"
   ],
   "metadata": {
    "collapsed": false,
    "pycharm": {
     "name": "#%% md\n"
    }
   }
  },
  {
   "cell_type": "code",
   "source": [
    "for text in data[\"comment\"]:# remove single letter\n",
    "    for word in text:\n",
    "        if len(word) == 1:\n",
    "            text.remove(word)"
   ],
   "metadata": {
    "collapsed": false,
    "pycharm": {
     "name": "#%%\n"
    }
   },
   "execution_count": null,
   "outputs": []
  },
  {
   "cell_type": "markdown",
   "source": [
    "## 分词\n",
    "由comment的text创建tokens存储分词"
   ],
   "metadata": {
    "collapsed": false,
    "pycharm": {
     "name": "#%% md\n"
    }
   }
  },
  {
   "cell_type": "code",
   "source": [
    "# 如果上面用了粘连词分词，这里就不需要调用word_tokenize了\n",
    "#tokens = [word_tokenize(sen) for sen in data['comment']]\n",
    "tokens = [sen for sen in data['comment']]\n",
    "tokens[:5]"
   ],
   "metadata": {
    "collapsed": false,
    "pycharm": {
     "name": "#%%\n"
    }
   },
   "execution_count": null,
   "outputs": []
  },
  {
   "cell_type": "markdown",
   "source": [
    "### 小写化"
   ],
   "metadata": {
    "collapsed": false,
    "pycharm": {
     "name": "#%% md\n"
    }
   }
  },
  {
   "cell_type": "code",
   "metadata": {
    "pycharm": {
     "name": "#%%\n"
    }
   },
   "source": [
    "# All words are formated in lower case\n",
    "def lower_words(tokens):\n",
    "    return [word.lower() for word in tokens]\n",
    "tokens = [lower_words(t) for t in tokens]\n",
    "tokens[:1]"
   ],
   "execution_count": null,
   "outputs": []
  },
  {
   "cell_type": "markdown",
   "metadata": {
    "ExecuteTime": {
     "end_time": "2022-12-08T11:21:00.076438Z",
     "start_time": "2022-12-08T11:20:49.538877Z"
    },
    "colab": {
     "base_uri": "https://localhost:8080/"
    },
    "executionInfo": {
     "elapsed": 9612,
     "status": "ok",
     "timestamp": 1669814239494,
     "user": {
      "displayName": "金何晞",
      "userId": "16897903088205582148"
     },
     "user_tz": -480
    },
    "id": "EjTgcVxUn0XB",
    "outputId": "41f9b342-33c3-48f2-b0a2-4caf9786f1e9",
    "pycharm": {
     "name": "#%% md\n"
    }
   },
   "source": [
    "## 去停用词 （Case study: 优化停用词库）"
   ]
  },
  {
   "cell_type": "code",
   "execution_count": 84,
   "metadata": {
    "ExecuteTime": {
     "end_time": "2022-12-08T11:21:01.290206Z",
     "start_time": "2022-12-08T11:21:00.078421Z"
    },
    "colab": {
     "base_uri": "https://localhost:8080/"
    },
    "executionInfo": {
     "elapsed": 7,
     "status": "ok",
     "timestamp": 1669814239494,
     "user": {
      "displayName": "金何晞",
      "userId": "16897903088205582148"
     },
     "user_tz": -480
    },
    "id": "JRoRHokGn0XB",
    "outputId": "53684908-32ab-4b2f-c53b-8f660cf58d42",
    "pycharm": {
     "name": "#%%\n"
    }
   },
   "outputs": [
    {
     "data": {
      "text/plain": "['upset cant update facebook texting might cry result school today also blah',\n 'ken chan dived many times ball managed save rest go bounds',\n 'whole body feels itchy like fire',\n 'nationwide class not behaving mad cant see',\n 'side not whole crew']"
     },
     "execution_count": 84,
     "metadata": {},
     "output_type": "execute_result"
    }
   ],
   "source": [
    "# Remove stop words\n",
    "stop_words = set(stopwords.words(\"english\"))\n",
    "print(\"stop word samples:\",stopwords.words(\"english\")[:10])\n",
    "# Some negative words are very important for judging emotions:\n",
    "exclude_words = set((\"never\", \"not\",\"nor\"))\n",
    "extra_words = set((\"im\",\"u\",\"ill\",\"youll\",\"ull\",\"ll\"))\n",
    "stop_words = stop_words.difference(exclude_words)\n",
    "stop_words = stop_words.union(extra_words)\n",
    "\n",
    "def rm_stopwords(tokens):\n",
    "    return [word for word in tokens if word not in stop_words]\n",
    "\n",
    "final_tokens = [rm_stopwords(sen) for sen in tokens]\n",
    "print(final_tokens[:2])"
   ]
  },
  {
   "cell_type": "code",
   "execution_count": 85,
   "metadata": {
    "ExecuteTime": {
     "end_time": "2022-12-08T11:21:03.633317Z",
     "start_time": "2022-12-08T11:21:03.119678Z"
    },
    "colab": {
     "base_uri": "https://localhost:8080/",
     "height": 406
    },
    "executionInfo": {
     "elapsed": 889,
     "status": "ok",
     "timestamp": 1669814240379,
     "user": {
      "displayName": "金何晞",
      "userId": "16897903088205582148"
     },
     "user_tz": -480
    },
    "id": "KhHErg_mn0XB",
    "outputId": "3015d7a9-aae8-4ac3-bf7d-5da2fe114e79",
    "pycharm": {
     "name": "#%%\n"
    }
   },
   "outputs": [
    {
     "data": {
      "text/plain": "   label                          date     topic  \\\n0      0  Mon Apr 06 22:19:49 PDT 2009  NO_QUERY   \n1      0  Mon Apr 06 22:19:53 PDT 2009  NO_QUERY   \n2      0  Mon Apr 06 22:19:57 PDT 2009  NO_QUERY   \n3      0  Mon Apr 06 22:19:57 PDT 2009  NO_QUERY   \n4      0  Mon Apr 06 22:20:00 PDT 2009  NO_QUERY   \n\n                                             comment  pos  neg  \\\n0  [is, upset, that, he, cant, update, his, Faceb...    0    1   \n1  [Ken, chan, dived, many, times, for, the, ball...    0    1   \n2  [my, whole, body, feels, itchy, and, like, its...    0    1   \n3  [nationwide, class, no, its, not, behaving, at...    0    1   \n4                  [we, side, not, the, whole, crew]    0    1   \n\n                                          final_text  \\\n0  upset cant update facebook texting might cry r...   \n1  ken chan dived many times ball managed save re...   \n2                   whole body feels itchy like fire   \n3         nationwide class not behaving mad cant see   \n4                                side not whole crew   \n\n                                               words  \n0  [upset, cant, update, facebook, texting, might...  \n1  [ken, chan, dived, many, times, ball, managed,...  \n2            [whole, body, feels, itchy, like, fire]  \n3  [nationwide, class, not, behaving, mad, cant, ...  \n4                           [side, not, whole, crew]  ",
      "text/html": "<div>\n<style scoped>\n    .dataframe tbody tr th:only-of-type {\n        vertical-align: middle;\n    }\n\n    .dataframe tbody tr th {\n        vertical-align: top;\n    }\n\n    .dataframe thead th {\n        text-align: right;\n    }\n</style>\n<table border=\"1\" class=\"dataframe\">\n  <thead>\n    <tr style=\"text-align: right;\">\n      <th></th>\n      <th>label</th>\n      <th>date</th>\n      <th>topic</th>\n      <th>comment</th>\n      <th>pos</th>\n      <th>neg</th>\n      <th>final_text</th>\n      <th>words</th>\n    </tr>\n  </thead>\n  <tbody>\n    <tr>\n      <th>0</th>\n      <td>0</td>\n      <td>Mon Apr 06 22:19:49 PDT 2009</td>\n      <td>NO_QUERY</td>\n      <td>[is, upset, that, he, cant, update, his, Faceb...</td>\n      <td>0</td>\n      <td>1</td>\n      <td>upset cant update facebook texting might cry r...</td>\n      <td>[upset, cant, update, facebook, texting, might...</td>\n    </tr>\n    <tr>\n      <th>1</th>\n      <td>0</td>\n      <td>Mon Apr 06 22:19:53 PDT 2009</td>\n      <td>NO_QUERY</td>\n      <td>[Ken, chan, dived, many, times, for, the, ball...</td>\n      <td>0</td>\n      <td>1</td>\n      <td>ken chan dived many times ball managed save re...</td>\n      <td>[ken, chan, dived, many, times, ball, managed,...</td>\n    </tr>\n    <tr>\n      <th>2</th>\n      <td>0</td>\n      <td>Mon Apr 06 22:19:57 PDT 2009</td>\n      <td>NO_QUERY</td>\n      <td>[my, whole, body, feels, itchy, and, like, its...</td>\n      <td>0</td>\n      <td>1</td>\n      <td>whole body feels itchy like fire</td>\n      <td>[whole, body, feels, itchy, like, fire]</td>\n    </tr>\n    <tr>\n      <th>3</th>\n      <td>0</td>\n      <td>Mon Apr 06 22:19:57 PDT 2009</td>\n      <td>NO_QUERY</td>\n      <td>[nationwide, class, no, its, not, behaving, at...</td>\n      <td>0</td>\n      <td>1</td>\n      <td>nationwide class not behaving mad cant see</td>\n      <td>[nationwide, class, not, behaving, mad, cant, ...</td>\n    </tr>\n    <tr>\n      <th>4</th>\n      <td>0</td>\n      <td>Mon Apr 06 22:20:00 PDT 2009</td>\n      <td>NO_QUERY</td>\n      <td>[we, side, not, the, whole, crew]</td>\n      <td>0</td>\n      <td>1</td>\n      <td>side not whole crew</td>\n      <td>[side, not, whole, crew]</td>\n    </tr>\n  </tbody>\n</table>\n</div>"
     },
     "execution_count": 85,
     "metadata": {},
     "output_type": "execute_result"
    }
   ],
   "source": [
    "# Generate the final comment content \n",
    "contents = [' '.join(sen) for sen in final_tokens]\n",
    "# contents = [' '.join(sen) for sen in final_tokens]\n",
    "contents[:5]"
   ]
  },
  {
   "cell_type": "code",
   "execution_count": 86,
   "metadata": {
    "ExecuteTime": {
     "end_time": "2022-12-08T11:23:31.320272Z",
     "start_time": "2022-12-08T11:23:06.365651Z"
    },
    "collapsed": true
   },
   "outputs": [],
   "source": [
    "data[\"final_text\"] = contents\n",
    "data[\"words\"] = final_tokens\n",
    "data[:5]"
   ]
  },
  {
   "cell_type": "code",
   "metadata": {
    "pycharm": {
     "name": "#%%\n"
    }
   },
   "source": [
    "# save data\n",
    "data.to_csv(\"160M_w_emo_w_split_wstop/train_and_valid.csv\")\n",
    "#data.to_csv(\"160M_w_emo_w_split/test.csv\")"
   ],
   "execution_count": null,
   "outputs": []
  },
  {
   "cell_type": "markdown",
   "metadata": {
    "ExecuteTime": {
     "end_time": "2022-12-08T11:28:13.164878Z",
     "start_time": "2022-12-08T11:28:12.392120Z"
    },
    "collapsed": true,
    "executionInfo": {
     "elapsed": 2152,
     "status": "ok",
     "timestamp": 1669814242528,
     "user": {
      "displayName": "金何晞",
      "userId": "16897903088205582148"
     },
     "user_tz": -480
    },
    "id": "X1iv2Ve_n0XC",
    "pycharm": {
     "name": "#%% md\n"
    }
   },
   "source": [
    "## 划分数据集"
   ]
  },
  {
   "cell_type": "code",
   "execution_count": 88,
   "metadata": {
    "ExecuteTime": {
     "end_time": "2022-12-08T11:28:34.235390Z",
     "start_time": "2022-12-08T11:28:26.140376Z"
    },
    "colab": {
     "base_uri": "https://localhost:8080/"
    },
    "executionInfo": {
     "elapsed": 8449,
     "status": "ok",
     "timestamp": 1669814250974,
     "user": {
      "displayName": "金何晞",
      "userId": "16897903088205582148"
     },
     "user_tz": -480
    },
    "id": "ZxwlH63zn0XC",
    "outputId": "d7a517b3-f8c4-4e17-b97f-d7aac88970f1",
    "pycharm": {
     "name": "#%%\n"
    }
   },
   "outputs": [
    {
     "name": "stdout",
     "output_type": "stream",
     "text": [
      "This training dataset have 12000973 words in total, with a vocabulary size of 71472 \n",
      "\n",
      "Max sentence length is 56 \n",
      " Min sentence length is 0 \n",
      " Average sentence length  is 8 \n",
      "\n"
     ]
    }
   ],
   "source": [
    "# split training and valid(test) dataset with a ratio of 9:1 using random sampling\n",
    "train, test = train_test_split(data, test_size=0.10, random_state=42)\n"
   ]
  },
  {
   "cell_type": "code",
   "execution_count": 188,
   "metadata": {
    "ExecuteTime": {
     "end_time": "2022-12-08T11:28:38.339906Z",
     "start_time": "2022-12-08T11:28:36.771463Z"
    },
    "colab": {
     "base_uri": "https://localhost:8080/",
     "height": 282
    },
    "executionInfo": {
     "elapsed": 1373,
     "status": "ok",
     "timestamp": 1669814252334,
     "user": {
      "displayName": "金何晞",
      "userId": "16897903088205582148"
     },
     "user_tz": -480
    },
    "id": "IwkLoI1Dn0XD",
    "outputId": "218b2998-1727-4b0b-e7a1-37d81c05688f",
    "pycharm": {
     "name": "#%%\n"
    }
   },
   "outputs": [
    {
     "data": {
      "text/plain": "<AxesSubplot: >"
     },
     "execution_count": 188,
     "metadata": {},
     "output_type": "execute_result"
    },
    {
     "data": {
      "text/plain": "<Figure size 640x480 with 1 Axes>",
      "image/png": "[encoded data removed]"
     },
     "metadata": {},
     "output_type": "display_data"
    }
   ],
   "source": [
    "train_words = []\n",
    "for words in train[\"words\"]:\n",
    "    for word in words:\n",
    "        train_words.append(word)\n",
    "# train_words = [word for token in tokens for word in train[\"words\"]]\n",
    "train_vocab = sorted(list(set(train_words)))\n",
    "print(\"This training dataset have %s words in total, with a vocabulary size of %s \\n\" % (len(train_words), len(train_vocab)))\n",
    "\n",
    "train_senten_len = [len(tokens) for tokens in train[\"words\"]]\n",
    "print(\"Max sentence length is %d \\n\" % max(train_senten_len),\n",
    "      \"Min sentence length is %d \\n\" % min(train_senten_len),\n",
    "      \"Average sentence length  is %d \\n\"% np.mean(train_senten_len))"
   ]
  },
  {
   "cell_type": "code",
   "execution_count": 89,
   "metadata": {
    "ExecuteTime": {
     "end_time": "2022-12-08T11:28:45.214400Z",
     "start_time": "2022-12-08T11:28:43.848283Z"
    },
    "colab": {
     "base_uri": "https://localhost:8080/",
     "height": 388
    },
    "executionInfo": {
     "elapsed": 1500,
     "status": "ok",
     "timestamp": 1669814253830,
     "user": {
      "displayName": "金何晞",
      "userId": "16897903088205582148"
     },
     "user_tz": -480
    },
    "id": "udOycr2cn0XD",
    "outputId": "9fbbc2a5-b44a-4ecb-c4a0-9e730d1f8cb0",
    "pycharm": {
     "name": "#%%\n"
    }
   },
   "outputs": [
    {
     "name": "stdout",
     "output_type": "stream",
     "text": [
      "This test dataset have 1335296 words in total, with a vocabulary size of 42051 \n",
      "\n",
      "Max sentence length is 39 \n",
      " Min sentence length is 0 \n",
      " Average sentence length  is 8 \n",
      "\n"
     ]
    },
    {
     "data": {
      "text/plain": "<AxesSubplot: >"
     },
     "execution_count": 89,
     "metadata": {},
     "output_type": "execute_result"
    },
    {
     "data": {
      "text/plain": "<Figure size 640x480 with 1 Axes>",
      "image/png": "[encoded data removed]"
     },
     "metadata": {},
     "output_type": "display_data"
    }
   ],
   "source": [
    "import matplotlib as plt\n",
    "pd.Series(train_senten_len).hist()"
   ]
  },
  {
   "cell_type": "code",
   "execution_count": 90,
   "metadata": {
    "ExecuteTime": {
     "end_time": "2022-12-08T11:29:07.385807Z",
     "start_time": "2022-12-08T11:28:47.033427Z"
    },
    "colab": {
     "base_uri": "https://localhost:8080/",
     "height": 1000
    },
    "executionInfo": {
     "elapsed": 16856,
     "status": "ok",
     "timestamp": 1669814270683,
     "user": {
      "displayName": "金何晞",
      "userId": "16897903088205582148"
     },
     "user_tz": -480
    },
    "id": "sGOINsU-n0XD",
    "outputId": "bd88e347-7d8e-4488-85b8-8961c1d40a3f",
    "pycharm": {
     "name": "#%%\n"
    }
   },
   "outputs": [
    {
     "data": {
      "text/plain": "         label                          date     topic  \\\n265663       0  Sun May 31 23:32:01 PDT 2009  NO_QUERY   \n387273       0  Sat Jun 06 06:13:46 PDT 2009  NO_QUERY   \n637524       0  Thu Jun 18 22:38:00 PDT 2009  NO_QUERY   \n1328352      4  Wed Jun 03 04:50:16 PDT 2009  NO_QUERY   \n1415932      4  Sat Jun 06 12:46:38 PDT 2009  NO_QUERY   \n\n                                                   comment  pos  neg  \\\n265663   [My, dog, always, goes, psycho, when, it, rain...    0    1   \n387273   [Just, doing, some, revision, for, my, Italian...    0    1   \n637524           [hu, kh, nOt, really, LikE, tHis, fRiday]    0    1   \n1328352             [Yay, Wednesday, Short, day, at, work]    1    0   \n1415932  [Just, met, ronald, man, nak, in, Caf, Royal, ...    1    0   \n\n                                                final_text  \\\n265663           dog always goes psycho rains cant slee ep   \n387273   revision italian exams monday realising little...   \n637524                        hu kh not really like friday   \n1328352                       yay wednesday short day work   \n1415932  met ronald man nak caf royal world seems small...   \n\n                                                     words  comment_len  \n265663   [dog, always, goes, psycho, rains, cant, slee,...            8  \n387273   [revision, italian, exams, monday, realising, ...            8  \n637524                 [hu, kh, not, really, like, friday]            6  \n1328352                 [yay, wednesday, short, day, work]            5  \n1415932  [met, ronald, man, nak, caf, royal, world, see...           13  ",
      "text/html": "<div>\n<style scoped>\n    .dataframe tbody tr th:only-of-type {\n        vertical-align: middle;\n    }\n\n    .dataframe tbody tr th {\n        vertical-align: top;\n    }\n\n    .dataframe thead th {\n        text-align: right;\n    }\n</style>\n<table border=\"1\" class=\"dataframe\">\n  <thead>\n    <tr style=\"text-align: right;\">\n      <th></th>\n      <th>label</th>\n      <th>date</th>\n      <th>topic</th>\n      <th>comment</th>\n      <th>pos</th>\n      <th>neg</th>\n      <th>final_text</th>\n      <th>words</th>\n      <th>comment_len</th>\n    </tr>\n  </thead>\n  <tbody>\n    <tr>\n      <th>265663</th>\n      <td>0</td>\n      <td>Sun May 31 23:32:01 PDT 2009</td>\n      <td>NO_QUERY</td>\n      <td>[My, dog, always, goes, psycho, when, it, rain...</td>\n      <td>0</td>\n      <td>1</td>\n      <td>dog always goes psycho rains cant slee ep</td>\n      <td>[dog, always, goes, psycho, rains, cant, slee,...</td>\n      <td>8</td>\n    </tr>\n    <tr>\n      <th>387273</th>\n      <td>0</td>\n      <td>Sat Jun 06 06:13:46 PDT 2009</td>\n      <td>NO_QUERY</td>\n      <td>[Just, doing, some, revision, for, my, Italian...</td>\n      <td>0</td>\n      <td>1</td>\n      <td>revision italian exams monday realising little...</td>\n      <td>[revision, italian, exams, monday, realising, ...</td>\n      <td>8</td>\n    </tr>\n    <tr>\n      <th>637524</th>\n      <td>0</td>\n      <td>Thu Jun 18 22:38:00 PDT 2009</td>\n      <td>NO_QUERY</td>\n      <td>[hu, kh, nOt, really, LikE, tHis, fRiday]</td>\n      <td>0</td>\n      <td>1</td>\n      <td>hu kh not really like friday</td>\n      <td>[hu, kh, not, really, like, friday]</td>\n      <td>6</td>\n    </tr>\n    <tr>\n      <th>1328352</th>\n      <td>4</td>\n      <td>Wed Jun 03 04:50:16 PDT 2009</td>\n      <td>NO_QUERY</td>\n      <td>[Yay, Wednesday, Short, day, at, work]</td>\n      <td>1</td>\n      <td>0</td>\n      <td>yay wednesday short day work</td>\n      <td>[yay, wednesday, short, day, work]</td>\n      <td>5</td>\n    </tr>\n    <tr>\n      <th>1415932</th>\n      <td>4</td>\n      <td>Sat Jun 06 12:46:38 PDT 2009</td>\n      <td>NO_QUERY</td>\n      <td>[Just, met, ronald, man, nak, in, Caf, Royal, ...</td>\n      <td>1</td>\n      <td>0</td>\n      <td>met ronald man nak caf royal world seems small...</td>\n      <td>[met, ronald, man, nak, caf, royal, world, see...</td>\n      <td>13</td>\n    </tr>\n  </tbody>\n</table>\n</div>"
     },
     "execution_count": 90,
     "metadata": {},
     "output_type": "execute_result"
    }
   ],
   "source": [
    "test_words = []\n",
    "for words in test[\"words\"]:\n",
    "    for word in words:\n",
    "        test_words.append(word)\n",
    "test_vocab = sorted(list(set(test_words)))\n",
    "print(\"This test dataset have %s words in total, with a vocabulary size of %s \\n\" % (\n",
    "len(test_words), len(test_vocab)))\n",
    "\n",
    "test_senten_len = [len(tokens) for tokens in test[\"words\"]]\n",
    "print(\"Max sentence length is %s \\n\" % max(test_senten_len),\n",
    "      \"Min sentence length is %d \\n\" % min(test_senten_len),\n",
    "      \"Average sentence length  is %d \\n\" % np.mean(test_senten_len))\n",
    "test[\"content_len\"]= test_senten_len\n",
    "pd.Series(test_senten_len).hist()"
   ]
  },
  {
   "cell_type": "code",
   "execution_count": 93,
   "metadata": {
    "ExecuteTime": {
     "end_time": "2022-12-08T11:29:15.066722Z",
     "start_time": "2022-12-08T11:29:12.755685Z"
    },
    "colab": {
     "base_uri": "https://localhost:8080/",
     "height": 617
    },
    "executionInfo": {
     "elapsed": 2014,
     "status": "ok",
     "timestamp": 1669814272692,
     "user": {
      "displayName": "金何晞",
      "userId": "16897903088205582148"
     },
     "user_tz": -480
    },
    "id": "HILU8h0hn0XE",
    "outputId": "106b65ad-6f1d-4118-dab8-6afb5d66748e",
    "pycharm": {
     "name": "#%%\n"
    }
   },
   "outputs": [
    {
     "data": {
      "text/plain": "        label                          date     topic  \\\n541200      0  Tue Jun 16 18:18:13 PDT 2009  NO_QUERY   \n750         0  Mon Apr 06 23:11:18 PDT 2009  NO_QUERY   \n766711      0  Tue Jun 23 13:40:12 PDT 2009  NO_QUERY   \n285055      0  Mon Jun 01 10:26:09 PDT 2009  NO_QUERY   \n705995      0  Sat Jun 20 12:56:51 PDT 2009  NO_QUERY   \n\n                                                  comment  pos  neg  \\\n541200  [Nk, luv, rev, My, poor, little, dumpling, In,...    0    1   \n750     [Im, off, too, bed, gotta, wake, up, hell, ear...    0    1   \n766711  [have, nt, been, able, to, listen, to, it, yet...    0    1   \n285055  [now, remembers, why, solving, relatively, big...    0    1   \n705995                       [Ate, too, much, feel, sick]    0    1   \n\n                                               final_text  \\\n541200  nk luv rev poor little dumpling holm del vid r...   \n750            bed gotta wake hell early tomorrow morning   \n766711                 nt able listen yet speakers busted   \n285055  remembers solving relatively big equation two ...   \n705995                                 ate much feel sick   \n\n                                                    words  content_len  \\\n541200  [nk, luv, rev, poor, little, dumpling, holm, d...           17   \n750     [bed, gotta, wake, hell, early, tomorrow, morn...            7   \n766711          [nt, able, listen, yet, speakers, busted]            6   \n285055  [remembers, solving, relatively, big, equation...           10   \n705995                            [ate, much, feel, sick]            4   \n\n        comment_len  \n541200           17  \n750               7  \n766711            6  \n285055           10  \n705995            4  ",
      "text/html": "<div>\n<style scoped>\n    .dataframe tbody tr th:only-of-type {\n        vertical-align: middle;\n    }\n\n    .dataframe tbody tr th {\n        vertical-align: top;\n    }\n\n    .dataframe thead th {\n        text-align: right;\n    }\n</style>\n<table border=\"1\" class=\"dataframe\">\n  <thead>\n    <tr style=\"text-align: right;\">\n      <th></th>\n      <th>label</th>\n      <th>date</th>\n      <th>topic</th>\n      <th>comment</th>\n      <th>pos</th>\n      <th>neg</th>\n      <th>final_text</th>\n      <th>words</th>\n      <th>content_len</th>\n      <th>comment_len</th>\n    </tr>\n  </thead>\n  <tbody>\n    <tr>\n      <th>541200</th>\n      <td>0</td>\n      <td>Tue Jun 16 18:18:13 PDT 2009</td>\n      <td>NO_QUERY</td>\n      <td>[Nk, luv, rev, My, poor, little, dumpling, In,...</td>\n      <td>0</td>\n      <td>1</td>\n      <td>nk luv rev poor little dumpling holm del vid r...</td>\n      <td>[nk, luv, rev, poor, little, dumpling, holm, d...</td>\n      <td>17</td>\n      <td>17</td>\n    </tr>\n    <tr>\n      <th>750</th>\n      <td>0</td>\n      <td>Mon Apr 06 23:11:18 PDT 2009</td>\n      <td>NO_QUERY</td>\n      <td>[Im, off, too, bed, gotta, wake, up, hell, ear...</td>\n      <td>0</td>\n      <td>1</td>\n      <td>bed gotta wake hell early tomorrow morning</td>\n      <td>[bed, gotta, wake, hell, early, tomorrow, morn...</td>\n      <td>7</td>\n      <td>7</td>\n    </tr>\n    <tr>\n      <th>766711</th>\n      <td>0</td>\n      <td>Tue Jun 23 13:40:12 PDT 2009</td>\n      <td>NO_QUERY</td>\n      <td>[have, nt, been, able, to, listen, to, it, yet...</td>\n      <td>0</td>\n      <td>1</td>\n      <td>nt able listen yet speakers busted</td>\n      <td>[nt, able, listen, yet, speakers, busted]</td>\n      <td>6</td>\n      <td>6</td>\n    </tr>\n    <tr>\n      <th>285055</th>\n      <td>0</td>\n      <td>Mon Jun 01 10:26:09 PDT 2009</td>\n      <td>NO_QUERY</td>\n      <td>[now, remembers, why, solving, relatively, big...</td>\n      <td>0</td>\n      <td>1</td>\n      <td>remembers solving relatively big equation two ...</td>\n      <td>[remembers, solving, relatively, big, equation...</td>\n      <td>10</td>\n      <td>10</td>\n    </tr>\n    <tr>\n      <th>705995</th>\n      <td>0</td>\n      <td>Sat Jun 20 12:56:51 PDT 2009</td>\n      <td>NO_QUERY</td>\n      <td>[Ate, too, much, feel, sick]</td>\n      <td>0</td>\n      <td>1</td>\n      <td>ate much feel sick</td>\n      <td>[ate, much, feel, sick]</td>\n      <td>4</td>\n      <td>4</td>\n    </tr>\n  </tbody>\n</table>\n</div>"
     },
     "execution_count": 93,
     "metadata": {},
     "output_type": "execute_result"
    }
   ],
   "source": [
    "train[\"comment_len\"] = train_senten_len\n",
    "train =train.drop(train[train.comment_len==0].index)\n",
    "outputpath= r'160M_w_emo_w_split_wstop/train_160M.csv'\n",
    "train.to_csv(outputpath,sep=',',index=False,header=True)\n",
    "train[100:105]"
   ]
  },
  {
   "cell_type": "code",
   "execution_count": 28,
   "outputs": [
    {
     "name": "stdout",
     "output_type": "stream",
     "text": [
      "159952\n"
     ]
    }
   ],
   "source": [
    "#test[\"comment_len\"] = test_senten_len\n",
    "test = test.drop(test[test.comment_len==0].index)\n",
    "outputpath= r'160M_w_emo_w_split/valid_160M.csv'\n",
    "test.to_csv(outputpath,sep=',',index=False,header=True)\n",
    "test[:5]"
   ],
   "metadata": {
    "collapsed": false,
    "pycharm": {
     "name": "#%%\n"
    }
   }
  },
  {
   "cell_type": "code",
   "source": [
    "print(len(test['pos']))"
   ],
   "metadata": {
    "collapsed": false,
    "pycharm": {
     "name": "#%%\n"
    }
   },
   "execution_count": null,
   "outputs": []
  },
  {
   "cell_type": "markdown",
   "source": [
    "### 创建迷你数据集（用于初期模型调试与调参与快速实验）"
   ],
   "metadata": {
    "collapsed": false
   }
  },
  {
   "cell_type": "code",
   "execution_count": 45,
   "metadata": {
    "ExecuteTime": {
     "end_time": "2022-12-08T11:29:17.921697Z",
     "start_time": "2022-12-08T11:29:17.588936Z"
    },
    "colab": {
     "base_uri": "https://localhost:8080/"
    },
    "executionInfo": {
     "elapsed": 8,
     "status": "ok",
     "timestamp": 1669814272692,
     "user": {
      "displayName": "金何晞",
      "userId": "16897903088205582148"
     },
     "user_tz": -480
    },
    "id": "VLJ3Kz1in0XE",
    "outputId": "e7f0b3b4-e857-486c-bf23-f91a0bcf8d98",
    "pycharm": {
     "name": "#%%\n"
    }
   },
   "outputs": [
    {
     "name": "stdout",
     "output_type": "stream",
     "text": [
      "There are 799999 negative comments.\n",
      "\n",
      "There are 800000 positive comments.\n",
      "\n"
     ]
    }
   ],
   "source": [
    "# sample 10k datasets as a demo (neg:pos = 1:1)\n",
    "print(\"There are %d negative comments.\\n\" %len(data[data['neg'].isin([1])]))\n",
    "neg_data = data[data['neg'].isin([1])][:5000]\n",
    "print(\"There are %d positive comments.\\n\" %len(data[data['pos'].isin([1])]))\n",
    "pos_data = data[data['neg'].isin([0])][:5000]\n",
    "frame = [pos_data,neg_data]\n",
    "sample_data= pd.concat(frame)"
   ]
  },
  {
   "cell_type": "code",
   "execution_count": 19,
   "metadata": {
    "ExecuteTime": {
     "end_time": "2022-11-30T16:49:34.403750Z",
     "start_time": "2022-11-30T16:49:34.382501Z"
    },
    "id": "e-Eq2gwen0XE",
    "outputId": "95028a21-9f3a-4233-d11a-ecc2c5b466d1",
    "pycharm": {
     "name": "#%%\n"
    }
   },
   "outputs": [
    {
     "data": {
      "text/plain": [
       "10000"
      ]
     },
     "execution_count": 19,
     "metadata": {},
     "output_type": "execute_result"
    }
   ],
   "source": [
    "len(sample_data)"
   ]
  },
  {
   "cell_type": "code",
   "execution_count": 46,
   "metadata": {
    "ExecuteTime": {
     "end_time": "2022-12-08T11:29:21.980472Z",
     "start_time": "2022-12-08T11:29:21.958437Z"
    },
    "collapsed": true,
    "executionInfo": {
     "elapsed": 4,
     "status": "ok",
     "timestamp": 1669814272692,
     "user": {
      "displayName": "金何晞",
      "userId": "16897903088205582148"
     },
     "user_tz": -480
    },
    "id": "H8Pdl3b1n0XE",
    "pycharm": {
     "name": "#%%\n"
    }
   },
   "outputs": [],
   "source": [
    "sample_train, sample_test = train_test_split(sample_data, test_size=0.10, random_state=42)"
   ]
  },
  {
   "cell_type": "code",
   "execution_count": 47,
   "metadata": {
    "ExecuteTime": {
     "end_time": "2022-12-08T11:29:25.003832Z",
     "start_time": "2022-12-08T11:29:24.610895Z"
    },
    "colab": {
     "base_uri": "https://localhost:8080/",
     "height": 510
    },
    "executionInfo": {
     "elapsed": 2093,
     "status": "ok",
     "timestamp": 1669814274782,
     "user": {
      "displayName": "金何晞",
      "userId": "16897903088205582148"
     },
     "user_tz": -480
    },
    "id": "loV8i5bFn0XE",
    "outputId": "c00aa50f-20a4-4596-9b07-ff4165515996",
    "pycharm": {
     "name": "#%%\n"
    }
   },
   "outputs": [
    {
     "data": {
      "text/html": [
       "<div>\n",
       "<style scoped>\n",
       "    .dataframe tbody tr th:only-of-type {\n",
       "        vertical-align: middle;\n",
       "    }\n",
       "\n",
       "    .dataframe tbody tr th {\n",
       "        vertical-align: top;\n",
       "    }\n",
       "\n",
       "    .dataframe thead th {\n",
       "        text-align: right;\n",
       "    }\n",
       "</style>\n",
       "<table border=\"1\" class=\"dataframe\">\n",
       "  <thead>\n",
       "    <tr style=\"text-align: right;\">\n",
       "      <th></th>\n",
       "      <th>label</th>\n",
       "      <th>comment</th>\n",
       "      <th>pos</th>\n",
       "      <th>neg</th>\n",
       "      <th>final_text</th>\n",
       "      <th>words</th>\n",
       "      <th>comment_len</th>\n",
       "    </tr>\n",
       "  </thead>\n",
       "  <tbody>\n",
       "    <tr>\n",
       "      <th>804895</th>\n",
       "      <td>4</td>\n",
       "      <td>the silent house music to my ears  just being ...</td>\n",
       "      <td>1</td>\n",
       "      <td>0</td>\n",
       "      <td>silent house music ears tonight</td>\n",
       "      <td>[silent, house, music, ears, tonight]</td>\n",
       "      <td>5</td>\n",
       "    </tr>\n",
       "    <tr>\n",
       "      <th>804781</th>\n",
       "      <td>4</td>\n",
       "      <td>morning everyone</td>\n",
       "      <td>1</td>\n",
       "      <td>0</td>\n",
       "      <td>morning everyone</td>\n",
       "      <td>[morning, everyone]</td>\n",
       "      <td>2</td>\n",
       "    </tr>\n",
       "    <tr>\n",
       "      <th>801495</th>\n",
       "      <td>4</td>\n",
       "      <td>RoyalGuardofOz Thanks hun  hugs</td>\n",
       "      <td>1</td>\n",
       "      <td>0</td>\n",
       "      <td>royalguardofoz thanks hun hugs</td>\n",
       "      <td>[royalguardofoz, thanks, hun, hugs]</td>\n",
       "      <td>4</td>\n",
       "    </tr>\n",
       "    <tr>\n",
       "      <th>801956</th>\n",
       "      <td>4</td>\n",
       "      <td>Apart from Itunes can anyone recommend a good ...</td>\n",
       "      <td>1</td>\n",
       "      <td>0</td>\n",
       "      <td>apart itunes anyone recommend good reasonable ...</td>\n",
       "      <td>[apart, itunes, anyone, recommend, good, reaso...</td>\n",
       "      <td>10</td>\n",
       "    </tr>\n",
       "    <tr>\n",
       "      <th>4171</th>\n",
       "      <td>0</td>\n",
       "      <td>seems to be coming down with a cold which migh...</td>\n",
       "      <td>0</td>\n",
       "      <td>1</td>\n",
       "      <td>seems coming cold might help explain poor sleep</td>\n",
       "      <td>[seems, coming, cold, might, help, explain, po...</td>\n",
       "      <td>8</td>\n",
       "    </tr>\n",
       "  </tbody>\n",
       "</table>\n",
       "</div>"
      ],
      "text/plain": [
       "        label                                            comment  pos  neg  \\\n",
       "804895      4  the silent house music to my ears  just being ...    1    0   \n",
       "804781      4                                  morning everyone     1    0   \n",
       "801495      4                    RoyalGuardofOz Thanks hun  hugs    1    0   \n",
       "801956      4  Apart from Itunes can anyone recommend a good ...    1    0   \n",
       "4171        0  seems to be coming down with a cold which migh...    0    1   \n",
       "\n",
       "                                               final_text  \\\n",
       "804895                    silent house music ears tonight   \n",
       "804781                                   morning everyone   \n",
       "801495                     royalguardofoz thanks hun hugs   \n",
       "801956  apart itunes anyone recommend good reasonable ...   \n",
       "4171      seems coming cold might help explain poor sleep   \n",
       "\n",
       "                                                    words  comment_len  \n",
       "804895              [silent, house, music, ears, tonight]            5  \n",
       "804781                                [morning, everyone]            2  \n",
       "801495                [royalguardofoz, thanks, hun, hugs]            4  \n",
       "801956  [apart, itunes, anyone, recommend, good, reaso...           10  \n",
       "4171    [seems, coming, cold, might, help, explain, po...            8  "
      ]
     },
     "execution_count": 47,
     "metadata": {},
     "output_type": "execute_result"
    }
   ],
   "source": [
    "train_words = []\n",
    "for words in sample_train[\"words\"]:\n",
    "    for word in words:\n",
    "        train_words.append(word)\n",
    "senten_len = [len(tokens) for tokens in sample_train[\"words\"]]\n",
    "sample_train[\"comment_len\"] = senten_len\n",
    "outputpath= r'train_10K.csv'\n",
    "sample_train.to_csv(outputpath,sep=',',index=False,header=True)\n",
    "sample_train[:5]"
   ]
  },
  {
   "cell_type": "code",
   "execution_count": null,
   "outputs": [],
   "source": [
    "test_words = []\n",
    "for words in sample_test[\"words\"]:\n",
    "    for word in words:\n",
    "        test_words.append(word)\n",
    "senten_len = [len(tokens) for tokens in sample_test[\"words\"]]\n",
    "sample_test[\"comment_len\"] = senten_len\n",
    "outputpath= r'valid_10K.csv'\n",
    "sample_test.to_csv(outputpath,sep=',',index=False,header=True)\n",
    "sample_test[:5]"
   ],
   "metadata": {
    "collapsed": false,
    "pycharm": {
     "name": "#%%\n"
    }
   }
  }
 ],
 "metadata": {
  "accelerator": "GPU",
  "colab": {
   "provenance": []
  },
  "gpuClass": "standard",
  "kernelspec": {
   "name": "python3",
   "language": "python",
   "display_name": "Python 3 (ipykernel)"
  },
  "language_info": {
   "codemirror_mode": {
    "name": "ipython",
    "version": 3
   },
   "file_extension": ".py",
   "mimetype": "text/x-python",
   "name": "python",
   "nbconvert_exporter": "python",
   "pygments_lexer": "ipython3",
   "version": "3.8.12"
  }
 },
 "nbformat": 4,
 "nbformat_minor": 1
}